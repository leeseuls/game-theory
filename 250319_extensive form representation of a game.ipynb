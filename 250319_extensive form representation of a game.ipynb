{
 "cells": [
  {
   "cell_type": "markdown",
   "metadata": {},
   "source": [
    "$\\Gamma_{E} = \\{ \\mathscr{X}, \\mathscr{A}, p(\\cdot), \\alpha(\\cdot), \\mathscr{H}, H(\\cdot), \\iota(\\cdot), \\rho(\\cdot), u \\}$"
   ]
  },
  {
   "cell_type": "code",
   "execution_count": 1,
   "metadata": {},
   "outputs": [],
   "source": [
    "from itertools import product"
   ]
  },
  {
   "cell_type": "markdown",
   "metadata": {},
   "source": [
    "### Example"
   ]
  },
  {
   "cell_type": "code",
   "execution_count": 2,
   "metadata": {},
   "outputs": [],
   "source": [
    "X = list(range(15))\n",
    "A = ['a', 'b', 'c', 'd', 'e', 'f']\n",
    "I = [0, 1, 2]\n",
    "P = [None, 0, 0, 1, 1, 2, 2, 3, 3, 4, 4, 5, 5, 6, 6]\n",
    "S = [([idx for idx, value in enumerate(P) if value==x] or None) for x in X]\n",
    "alpha = [None, 'a', 'b', 'c', 'd', 'e', 'f', 'a', 'b', 'a', 'b', 'a', 'b', 'a', 'b']\n",
    "T = [idx for idx, value in enumerate(S) if value==None]\n",
    "C_X = [[value for idx, value in enumerate(alpha) if idx in s] for s in S if s!=None]\n",
    "H = [0, 1, 2, 3, 3, 4, 4, None, None, None, None, None, None, None, None]\n",
    "C_H = [C_X[idx] for idx, value in enumerate(H) if value is not None and H.index(value)==idx]\n",
    "iota = [0, 1, 1, 2, 2]\n",
    "S0 = [''.join(s) for s in product(*[C_H[idx] for idx, value in enumerate(iota) if value==0])]\n",
    "S1 = [''.join(s) for s in product(*[C_H[idx] for idx, value in enumerate(iota) if value==1])]\n",
    "S2 = [''.join(s) for s in product(*[C_H[idx] for idx, value in enumerate(iota) if value==2])]"
   ]
  },
  {
   "cell_type": "code",
   "execution_count": 3,
   "metadata": {},
   "outputs": [
    {
     "name": "stdout",
     "output_type": "stream",
     "text": [
      "nodes: X = [0, 1, 2, 3, 4, 5, 6, 7, 8, 9, 10, 11, 12, 13, 14]\n",
      "actions: A = ['a', 'b', 'c', 'd', 'e', 'f']\n",
      "players: I = [0, 1, 2]\n",
      "predecessors (X->X): P = [None, 0, 0, 1, 1, 2, 2, 3, 3, 4, 4, 5, 5, 6, 6]\n",
      "successors: S = [[1, 2], [3, 4], [5, 6], [7, 8], [9, 10], [11, 12], [13, 14], None, None, None, None, None, None, None, None]\n",
      "actions (X->A): alpha = [None, 'a', 'b', 'c', 'd', 'e', 'f', 'a', 'b', 'a', 'b', 'a', 'b', 'a', 'b']\n",
      "terminal nodes: T = [7, 8, 9, 10, 11, 12, 13, 14]\n",
      "choices available at decision node: C(X) = [['a', 'b'], ['c', 'd'], ['e', 'f'], ['a', 'b'], ['a', 'b'], ['a', 'b'], ['a', 'b']]\n",
      "information sets (X->H): H = [0, 1, 2, 3, 3, 4, 4, None, None, None, None, None, None, None, None]\n",
      "choices available at information set: C(H) = [['a', 'b'], ['c', 'd'], ['e', 'f'], ['a', 'b'], ['a', 'b']]\n",
      "players (H->I): iota = [0, 1, 1, 2, 2]\n",
      "player 0's strategy: S0 = ['a', 'b']\n",
      "player 1's strategy: S1 = ['ce', 'cf', 'de', 'df']\n",
      "player 2's strategy: S2 = ['aa', 'ab', 'ba', 'bb']\n"
     ]
    }
   ],
   "source": [
    "print(f'nodes: X = {X}')\n",
    "print(f'actions: A = {A}')\n",
    "print(f'players: I = {I}')\n",
    "print(f'predecessors (X->X): P = {P}')\n",
    "print(f'successors: S = {S}')\n",
    "print(f'actions (X->A): alpha = {alpha}')\n",
    "print(f'terminal nodes: T = {T}')\n",
    "print(f'choices available at decision node: C(X) = {C_X}')\n",
    "print(f'information sets (X->H): H = {H}')\n",
    "print(f'choices available at information set: C(H) = {C_H}')\n",
    "print(f'players (H->I): iota = {iota}')\n",
    "print(f\"player 0's strategy: S0 = {S0}\")\n",
    "print(f\"player 1's strategy: S1 = {S1}\")\n",
    "print(f\"player 2's strategy: S2 = {S2}\")"
   ]
  },
  {
   "cell_type": "markdown",
   "metadata": {},
   "source": [
    "### Example. Strategies in Matching Pennies Version B"
   ]
  },
  {
   "cell_type": "code",
   "execution_count": 4,
   "metadata": {},
   "outputs": [],
   "source": [
    "X = list(range(1, 8))\n",
    "A = ['h', 't']\n",
    "I = [1, 2]\n",
    "P = [None, 1, 1, 2, 2, 3, 3]\n",
    "S = [([idx+1 for idx, value in enumerate(P) if value==x] or None) for x in X]\n",
    "alpha = [None, 'h', 't', 'h', 't', 'h', 't']\n",
    "T = [idx+1 for idx, value in enumerate(S) if value==None]\n",
    "C_X = [[value for idx, value in enumerate(alpha) if idx+1 in s] for s in S if s!=None]\n",
    "H = [1, 2, 3, None, None, None, None]\n",
    "C_H = [C_X[idx] for idx, value in enumerate(H) if value is not None and H.index(value)==idx]\n",
    "iota = [1, 2, 2]\n",
    "S1 = [''.join(s) for s in product(*[C_H[idx] for idx, value in enumerate(iota) if value==1])]\n",
    "S2 = [''.join(s) for s in product(*[C_H[idx] for idx, value in enumerate(iota) if value==2])]"
   ]
  },
  {
   "cell_type": "code",
   "execution_count": 5,
   "metadata": {},
   "outputs": [
    {
     "name": "stdout",
     "output_type": "stream",
     "text": [
      "nodes: X = [1, 2, 3, 4, 5, 6, 7]\n",
      "actions: A = ['h', 't']\n",
      "players: I = [1, 2]\n",
      "predecessors (X->X): P = [None, 1, 1, 2, 2, 3, 3]\n",
      "successors: S = [[2, 3], [4, 5], [6, 7], None, None, None, None]\n",
      "actions (X->A): alpha = [None, 'h', 't', 'h', 't', 'h', 't']\n",
      "terminal nodes: T = [4, 5, 6, 7]\n",
      "choices available at decision node: C(X) = [['h', 't'], ['h', 't'], ['h', 't']]\n",
      "information sets (X->H): H = [1, 2, 3, None, None, None, None]\n",
      "choices available at information set: C(H) = [['h', 't'], ['h', 't'], ['h', 't']]\n",
      "players (H->I): iota = [1, 2, 2]\n",
      "player 1's strategy: S1 = ['h', 't']\n",
      "player 2's strategy: S2 = ['hh', 'ht', 'th', 'tt']\n"
     ]
    }
   ],
   "source": [
    "print(f'nodes: X = {X}')\n",
    "print(f'actions: A = {A}')\n",
    "print(f'players: I = {I}')\n",
    "print(f'predecessors (X->X): P = {P}')\n",
    "print(f'successors: S = {S}')\n",
    "print(f'actions (X->A): alpha = {alpha}')\n",
    "print(f'terminal nodes: T = {T}')\n",
    "print(f'choices available at decision node: C(X) = {C_X}')\n",
    "print(f'information sets (X->H): H = {H}')\n",
    "print(f'choices available at information set: C(H) = {C_H}')\n",
    "print(f'players (H->I): iota = {iota}')\n",
    "print(f\"player 1's strategy: S1 = {S1}\")\n",
    "print(f\"player 2's strategy: S2 = {S2}\")"
   ]
  },
  {
   "cell_type": "markdown",
   "metadata": {},
   "source": [
    "### Example. Strategies in Matching Pennies Version C"
   ]
  },
  {
   "cell_type": "code",
   "execution_count": 6,
   "metadata": {},
   "outputs": [],
   "source": [
    "X = list(range(1, 8))\n",
    "A = ['h', 't']\n",
    "I = [1, 2]\n",
    "P = [None, 1, 1, 2, 2, 3, 3]\n",
    "S = [([idx+1 for idx, value in enumerate(P) if value==x] or None) for x in X]\n",
    "alpha = [None, 'h', 't', 'h', 't', 'h', 't']\n",
    "T = [idx+1 for idx, value in enumerate(S) if value==None]\n",
    "C_X = [[value for idx, value in enumerate(alpha) if idx+1 in s] for s in S if s!=None]\n",
    "H = [1, 2, 2, None, None, None]\n",
    "C_H = [C_X[idx] for idx, value in enumerate(H) if value is not None and H.index(value)==idx]\n",
    "iota = [1, 2]\n",
    "S1 = [''.join(s) for s in product(*[C_H[idx] for idx, value in enumerate(iota) if value==1])]\n",
    "S2 = [''.join(s) for s in product(*[C_H[idx] for idx, value in enumerate(iota) if value==2])]"
   ]
  },
  {
   "cell_type": "code",
   "execution_count": 7,
   "metadata": {},
   "outputs": [
    {
     "name": "stdout",
     "output_type": "stream",
     "text": [
      "nodes: X = [1, 2, 3, 4, 5, 6, 7]\n",
      "actions: A = ['h', 't']\n",
      "players: I = [1, 2]\n",
      "predecessors (X->X): P = [None, 1, 1, 2, 2, 3, 3]\n",
      "successors: S = [[2, 3], [4, 5], [6, 7], None, None, None, None]\n",
      "actions (X->A): alpha = [None, 'h', 't', 'h', 't', 'h', 't']\n",
      "terminal nodes: T = [4, 5, 6, 7]\n",
      "choices available at decision node: C(X) = [['h', 't'], ['h', 't'], ['h', 't']]\n",
      "information sets (X->H): H = [1, 2, 2, None, None, None]\n",
      "choices available at information set: C(H) = [['h', 't'], ['h', 't']]\n",
      "players (H->I): iota = [1, 2]\n",
      "player 1's strategy: S1 = ['h', 't']\n",
      "player 2's strategy: S2 = ['h', 't']\n"
     ]
    }
   ],
   "source": [
    "print(f'nodes: X = {X}')\n",
    "print(f'actions: A = {A}')\n",
    "print(f'players: I = {I}')\n",
    "print(f'predecessors (X->X): P = {P}')\n",
    "print(f'successors: S = {S}')\n",
    "print(f'actions (X->A): alpha = {alpha}')\n",
    "print(f'terminal nodes: T = {T}')\n",
    "print(f'choices available at decision node: C(X) = {C_X}')\n",
    "print(f'information sets (X->H): H = {H}')\n",
    "print(f'choices available at information set: C(H) = {C_H}')\n",
    "print(f'players (H->I): iota = {iota}')\n",
    "print(f\"player 1's strategy: S1 = {S1}\")\n",
    "print(f\"player 2's strategy: S2 = {S2}\")"
   ]
  },
  {
   "cell_type": "markdown",
   "metadata": {},
   "source": [
    "### Example. Strategies in Matching Pennies Version D"
   ]
  },
  {
   "cell_type": "code",
   "execution_count": 8,
   "metadata": {},
   "outputs": [],
   "source": [
    "X = list(range(15))\n",
    "A = ['OT', 'FS', 'h', 't']\n",
    "I = [0, 1, 2] # player 0: Nature\n",
    "P = [None, 0, 0, 1, 1, 2, 2, 3, 3, 4, 4, 5, 5, 6, 6]\n",
    "S = [([idx for idx, value in enumerate(P) if value==x] or None) for x in X]\n",
    "alpha = [None, 'OT', 'FS', 'h', 't', 'h', 't', 'h', 't', 'h', 't', 'h', 't', 'h', 't']\n",
    "T = [idx+1 for idx, value in enumerate(S) if value==None]\n",
    "C_X = [[value for idx, value in enumerate(alpha) if idx in s] for s in S if s!=None]\n",
    "H = [0, 1, 2, 3, 4, 5, 6, None, None, None, None, None, None, None, None]\n",
    "C_H = [C_X[idx] for idx, value in enumerate(H) if value is not None and H.index(value)==idx]\n",
    "iota = [0, 1, 2, 2, 2, 1, 1]\n",
    "rho = [1/2, 1/2, None, None, None, None, None, None, None, None, None, None, None, None]\n",
    "S1 = [''.join(s) for s in product(*[C_H[idx] for idx, value in enumerate(iota) if value==1])]\n",
    "S2 = [''.join(s) for s in product(*[C_H[idx] for idx, value in enumerate(iota) if value==2])]"
   ]
  },
  {
   "cell_type": "code",
   "execution_count": 9,
   "metadata": {},
   "outputs": [
    {
     "name": "stdout",
     "output_type": "stream",
     "text": [
      "nodes: X = [0, 1, 2, 3, 4, 5, 6, 7, 8, 9, 10, 11, 12, 13, 14]\n",
      "actions: A = ['OT', 'FS', 'h', 't']\n",
      "players: I = [0, 1, 2]\n",
      "predecessors (X->X): P = [None, 0, 0, 1, 1, 2, 2, 3, 3, 4, 4, 5, 5, 6, 6]\n",
      "successors: S = [[1, 2], [3, 4], [5, 6], [7, 8], [9, 10], [11, 12], [13, 14], None, None, None, None, None, None, None, None]\n",
      "actions (X->A): alpha = [None, 'OT', 'FS', 'h', 't', 'h', 't', 'h', 't', 'h', 't', 'h', 't', 'h', 't']\n",
      "terminal nodes: T = [8, 9, 10, 11, 12, 13, 14, 15]\n",
      "choices available at decision node: C(X) = [['OT', 'FS'], ['h', 't'], ['h', 't'], ['h', 't'], ['h', 't'], ['h', 't'], ['h', 't']]\n",
      "information sets (X->H): H = [0, 1, 2, 3, 4, 5, 6, None, None, None, None, None, None, None, None]\n",
      "choices available at information set: C(H) = [['OT', 'FS'], ['h', 't'], ['h', 't'], ['h', 't'], ['h', 't'], ['h', 't'], ['h', 't']]\n",
      "players (H->I): iota = [0, 1, 2, 2, 2, 1, 1]\n",
      "probobilities(moves by nature) rho = [0.5, 0.5, None, None, None, None, None, None, None, None, None, None, None, None]\n",
      "player 1's strategy: S1 = ['hhh', 'hht', 'hth', 'htt', 'thh', 'tht', 'tth', 'ttt']\n",
      "player 2's strategy: S2 = ['hhh', 'hht', 'hth', 'htt', 'thh', 'tht', 'tth', 'ttt']\n"
     ]
    }
   ],
   "source": [
    "print(f'nodes: X = {X}')\n",
    "print(f'actions: A = {A}')\n",
    "print(f'players: I = {I}')\n",
    "print(f'predecessors (X->X): P = {P}')\n",
    "print(f'successors: S = {S}')\n",
    "print(f'actions (X->A): alpha = {alpha}')\n",
    "print(f'terminal nodes: T = {T}')\n",
    "print(f'choices available at decision node: C(X) = {C_X}')\n",
    "print(f'information sets (X->H): H = {H}')\n",
    "print(f'choices available at information set: C(H) = {C_H}')\n",
    "print(f'players (H->I): iota = {iota}')\n",
    "print(f'probobilities(moves by nature) rho = {rho}')\n",
    "print(f\"player 1's strategy: S1 = {S1}\")\n",
    "print(f\"player 2's strategy: S2 = {S2}\")"
   ]
  }
 ],
 "metadata": {
  "kernelspec": {
   "display_name": "base",
   "language": "python",
   "name": "python3"
  },
  "language_info": {
   "codemirror_mode": {
    "name": "ipython",
    "version": 3
   },
   "file_extension": ".py",
   "mimetype": "text/x-python",
   "name": "python",
   "nbconvert_exporter": "python",
   "pygments_lexer": "ipython3",
   "version": "3.12.4"
  }
 },
 "nbformat": 4,
 "nbformat_minor": 2
}
